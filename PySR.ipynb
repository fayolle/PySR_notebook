{
  "nbformat": 4,
  "nbformat_minor": 0,
  "metadata": {
    "colab": {
      "name": "PySR.ipynb",
      "provenance": []
    },
    "kernelspec": {
      "name": "python3",
      "display_name": "Python 3"
    },
    "language_info": {
      "name": "python"
    }
  },
  "cells": [
    {
      "cell_type": "code",
      "source": [
        "!which julia"
      ],
      "metadata": {
        "id": "7xHBekk7uuDZ"
      },
      "execution_count": null,
      "outputs": []
    },
    {
      "cell_type": "code",
      "execution_count": null,
      "metadata": {
        "id": "rJ8F-LEctRzT"
      },
      "outputs": [],
      "source": [
        "%%shell\n",
        "set -e\n",
        "\n",
        "#---------------------------------------------------#\n",
        "JULIA_VERSION=\"1.7.1\" \n",
        "JULIA_PACKAGES=\"\"\n",
        "JULIA_PACKAGES_IF_GPU=\"CUDA\" \n",
        "JULIA_NUM_THREADS=2\n",
        "#---------------------------------------------------#\n",
        "\n",
        "if [ -n \"$COLAB_GPU\" ] && [ -z `which julia` ]; then\n",
        "  # Install Julia\n",
        "  JULIA_VER=`cut -d '.' -f -2 <<< \"$JULIA_VERSION\"`\n",
        "  echo \"Installing Julia $JULIA_VERSION on the current Colab Runtime...\"\n",
        "  BASE_URL=\"https://julialang-s3.julialang.org/bin/linux/x64\"\n",
        "  URL=\"$BASE_URL/$JULIA_VER/julia-$JULIA_VERSION-linux-x86_64.tar.gz\"\n",
        "  wget -nv $URL -O /tmp/julia.tar.gz # -nv means \"not verbose\"\n",
        "  tar -x -f /tmp/julia.tar.gz -C /usr/local --strip-components 1\n",
        "  rm /tmp/julia.tar.gz\n",
        "\n",
        "  # Install Packages\n",
        "  if [ \"$COLAB_GPU\" = \"1\" ]; then\n",
        "      JULIA_PACKAGES=\"$JULIA_PACKAGES $JULIA_PACKAGES_IF_GPU\"\n",
        "  fi\n",
        "  for PKG in `echo $JULIA_PACKAGES`; do\n",
        "    echo \"Installing Julia package $PKG...\"\n",
        "    julia -e 'using Pkg; pkg\"add '$PKG'; precompile;\"' &> /dev/null\n",
        "  done\n",
        "fi"
      ]
    },
    {
      "cell_type": "code",
      "source": [
        "!which julia"
      ],
      "metadata": {
        "id": "o-8qru4WwCK2"
      },
      "execution_count": null,
      "outputs": []
    },
    {
      "cell_type": "code",
      "source": [
        "!pip install pysr"
      ],
      "metadata": {
        "id": "rLu04ZcdwMu4"
      },
      "execution_count": null,
      "outputs": []
    },
    {
      "cell_type": "code",
      "source": [
        "import pysr"
      ],
      "metadata": {
        "id": "nXDTPlr0wYG3"
      },
      "execution_count": null,
      "outputs": []
    },
    {
      "cell_type": "code",
      "source": [
        "pysr.install()"
      ],
      "metadata": {
        "id": "BS8esbTFwfXC"
      },
      "execution_count": null,
      "outputs": []
    },
    {
      "cell_type": "code",
      "source": [
        "import numpy as np\n",
        "X = np.random.randn(100, 5)\n",
        "y = 2.0 * np.cos(X[:, 3]) + X[:,0]**2 - 2.0"
      ],
      "metadata": {
        "id": "skPPMkw3z0Br"
      },
      "execution_count": null,
      "outputs": []
    },
    {
      "cell_type": "code",
      "source": [
        "from pysr import PySRRegressor\n",
        "model = PySRRegressor(\n",
        "    niterations=5,\n",
        "    binary_operators=[\"+\", \"*\", \"-\", \"^\", \"/\"],\n",
        "    unary_operators=[\n",
        "        \"cos\",\n",
        "        \"exp\",\n",
        "        \"sin\",\n",
        "        \"tan\",\n",
        "        \"inv(x) = 1/x\",  # Custom operator (julia syntax)\n",
        "    ],\n",
        "    model_selection=\"best\",\n",
        "    loss=\"loss(x, y) = (x - y)^2\",  # Custom loss function (julia syntax)\n",
        ")"
      ],
      "metadata": {
        "id": "s6-nvBad0Yy1"
      },
      "execution_count": null,
      "outputs": []
    },
    {
      "cell_type": "code",
      "source": [
        "model.fit(X, y)"
      ],
      "metadata": {
        "colab": {
          "base_uri": "https://localhost:8080/"
        },
        "id": "1gq_GmIL0ew1",
        "outputId": "7b91c87c-accf-4ce7-be83-66ddfded8343"
      },
      "execution_count": null,
      "outputs": [
        {
          "output_type": "execute_result",
          "data": {
            "text/plain": [
              "PySRRegressor.equations = [\n",
              "\t   pick     score                                           equation  \\\n",
              "\t0        0.000000                                         0.43449417   \n",
              "\t1        0.150728                                            cos(x3)   \n",
              "\t2        0.816824                                 pow(x0, 1.8281212)   \n",
              "\t3        0.078394                          pow(0.104642525, cos(x0))   \n",
              "\t4        0.384409                   (pow(x0, 1.9785022) - 0.6698592)   \n",
              "\t5        1.729187          (pow(x0, 2.0101287) - pow(x3, 1.3389946))   \n",
              "\t6        0.113102  (pow(x0, 1.9957054) - (pow(x3, 1.347889) + -0....   \n",
              "\t7  >>>>       inf  (((x0 * x0) - (sin(x3 - 1.5707995) * 2.0000012...   \n",
              "\t\n",
              "\t       loss  complexity  \n",
              "\t0  2.885226           1  \n",
              "\t1  2.481528           2  \n",
              "\t2  1.096421           3  \n",
              "\t3  1.013751           4  \n",
              "\t4  0.690215           5  \n",
              "\t5  0.021729           7  \n",
              "\t6  0.017330           9  \n",
              "\t7  0.000000          12  \n",
              "]"
            ]
          },
          "metadata": {},
          "execution_count": 14
        }
      ]
    },
    {
      "cell_type": "code",
      "source": [
        "print(model.latex())"
      ],
      "metadata": {
        "colab": {
          "base_uri": "https://localhost:8080/"
        },
        "id": "IK7cYvTd2CVe",
        "outputId": "07030cd7-551e-4847-a1c9-a2e7fdfb52fc"
      },
      "execution_count": null,
      "outputs": [
        {
          "output_type": "stream",
          "name": "stdout",
          "text": [
            "x_{0}^{2} - 2.0000012 \\sin{\\left(x_{3} - 1.5707995 \\right)} - 2.0000012\n"
          ]
        }
      ]
    }
  ]
}